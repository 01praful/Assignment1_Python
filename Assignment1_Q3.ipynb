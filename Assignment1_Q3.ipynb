{
  "nbformat": 4,
  "nbformat_minor": 0,
  "metadata": {
    "colab": {
      "provenance": []
    },
    "kernelspec": {
      "name": "python3",
      "display_name": "Python 3"
    },
    "language_info": {
      "name": "python"
    }
  },
  "cells": [
    {
      "cell_type": "markdown",
      "source": [
        "Write a Python program to count the number of even and odd numbers from a series of numbers.\n",
        "\n"
      ],
      "metadata": {
        "id": "eL_qTRot3sVi"
      }
    },
    {
      "cell_type": "code",
      "execution_count": null,
      "metadata": {
        "id": "a2QaLKij3qVc"
      },
      "outputs": [],
      "source": [
        "n = (1, 2, 3, 4, 5, 6, 7, 8, 9)\n",
        "count_odd = 0\n",
        "count_even = 0\n",
        "for i in n:\n",
        "        if not i % 2:\n",
        "    \t     count_even+=1\n",
        "        else:\n",
        "    \t     count_odd+=1\n",
        "print(\"no. of even numbers :\",count_even)\n",
        "print(\"no. of odd numbers :\",count_odd)"
      ]
    }
  ]
}